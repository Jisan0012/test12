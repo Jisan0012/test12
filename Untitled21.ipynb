{
  "nbformat": 4,
  "nbformat_minor": 0,
  "metadata": {
    "colab": {
      "private_outputs": true,
      "provenance": []
    },
    "kernelspec": {
      "name": "python3",
      "display_name": "Python 3"
    },
    "language_info": {
      "name": "python"
    }
  },
  "cells": [
    {
      "cell_type": "code",
      "execution_count": null,
      "metadata": {
        "id": "MFwDpMgEuYvu"
      },
      "outputs": [],
      "source": [
        "gameplay=int(input())\n",
        "total=0\n",
        "win=0\n",
        "for i in range (gameplay):\n",
        "  score=input()\n",
        "  for j in range (len(score)):\n",
        "    if score[j]==\"-\":\n",
        "      own=int(score[:j])\n",
        "      oponent=int(score[j+1::])\n",
        "      if own>oponent:\n",
        "        total+=3\n",
        "        win+=1\n",
        "      elif own==oponent:\n",
        "        total+=1\n",
        "      else:\n",
        "        total+=0\n",
        "percentage=float((win/gameplay)*100)\n",
        "print(f\"Total points:{total}\\nwinning percentage:{percentage}%\")"
      ]
    }
  ]
}